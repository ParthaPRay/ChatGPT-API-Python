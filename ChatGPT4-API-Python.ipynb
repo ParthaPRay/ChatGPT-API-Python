{
 "cells": [
  {
   "cell_type": "code",
   "execution_count": 2,
   "id": "1cca2bc1",
   "metadata": {},
   "outputs": [
    {
     "name": "stdout",
     "output_type": "stream",
     "text": [
      "<openai.Stream object at 0x000001B05F1BCB10>\n"
     ]
    }
   ],
   "source": [
    "from openai import OpenAI\n",
    "\n",
    "client = OpenAI()\n",
    "\n",
    "stream = client.chat.completions.create(\n",
    "    model=\"gpt-4\",\n",
    "    messages=[{\"role\": \"user\", \"content\": \"Say this is a test\"}],\n",
    "    stream=True,\n",
    ")\n",
    "\n",
    "#Prints whole stream\n",
    "print(stream)\n"
   ]
  },
  {
   "cell_type": "code",
   "execution_count": 3,
   "id": "229c80e4",
   "metadata": {},
   "outputs": [
    {
     "name": "stdout",
     "output_type": "stream",
     "text": [
      "ChatCompletionMessage(content=\"In a world where complexity twirls and twines,\\nBeyond the realms of logic, an enigma shines.\\nOne word a concept, in itself redefined,\\nIt's the marvel in code, we call recursion, assigned.\\n\\nA painter within a canvas so bare,\\nPaints a painter painting another layer.\\nA tale within another tale to share,\\nThat's recursion, if you dare, compare.\\n\\nA function with a heart that's wild,\\nCalls upon itself, like a never-ending child.\\nCoders observe with curiosity beguiled,\\nA phenomenon that's gentle, yet undefiled.\\n\\nIn a code block silent and still,\\nResides a function with a relentless will.\\nCalling itself to climb the hill,\\nReducing problems to mere nil.\\n\\nAn infinite loop you might envision,\\nBut fear not, there's no room for confusion.\\nWith base case as safety provision,\\nCulminates the journey of recursive fusion.\\n\\nEach call stacked in memory's womb,\\nTo return and bloom in a code-filled room.\\nEach answer unwinds from memory's spool,\\nEmerging like threads from a weaver's loom.\\n\\nFrom the seeds of simplicity it does arouse,\\nTo higher complexities it allows,\\nLike a tree branching out from its boughs,\\nRecursion, in programming, a masterpiece espoused.\\n\\nLike matryoshka dolls, one within one,\\nAn echo of patterns, under the sun,\\nTake a step back, see the process begun,\\nThe dance of recursion is never done.\", role='assistant', function_call=None, tool_calls=None)\n"
     ]
    }
   ],
   "source": [
    "from openai import OpenAI\n",
    "\n",
    "client = OpenAI()\n",
    "\n",
    "completion = client.chat.completions.create(\n",
    "  model=\"gpt-4\",   #gpt-3.5-turbo can be used \n",
    "  messages=[\n",
    "    {\"role\": \"system\", \"content\": \"You are a poetic assistant, skilled in explaining complex programming concepts with creative flair.\"},\n",
    "    {\"role\": \"user\", \"content\": \"Compose a poem that explains the concept of recursion in programming.\"}\n",
    "  ]\n",
    ")\n",
    "\n",
    "#Prints whole message\n",
    "print(completion.choices[0].message)"
   ]
  },
  {
   "cell_type": "code",
   "execution_count": 4,
   "id": "9e71e478",
   "metadata": {},
   "outputs": [
    {
     "name": "stdout",
     "output_type": "stream",
     "text": [
      "In realms of code, and echoes loud,\n",
      "A tale is spun, in data shroud,\n",
      "Of functions calling, back and forth,\n",
      "In loops both south, and loops due north.\n",
      "\n",
      "Recursion is the chosen path,\n",
      "Despite its riddles, twists, and wrath,\n",
      "A function's call to its own self,\n",
      "Like a book referencing its own shelf.\n",
      "\n",
      "“A smaller problem! Pursue with ease!”,\n",
      "Cries recursion in the breeze,\n",
      "To solve a puzzle, large in scale,\n",
      "Where repetition might prevail.\n",
      "\n",
      "A base case anchors, sturdy, bright,\n",
      "Guiding us in the cryptic night,\n",
      "And once it's met, announces the end,\n",
      "Ensuring loops don’t drive us round the bend.\n",
      "\n",
      "Then hence it steps, quite in reverse,\n",
      "Unraveling its recursive verse,\n",
      "Each layer peeling, one by one,\n",
      "Until the rising recursive sun.\n",
      "\n",
      "It's as if we're gazing down a well,\n",
      "Mirrors reflecting mirrors tell,\n",
      "An infinite depth, a tale untold,\n",
      "Of recursive charm, forever bold.\n",
      "\n",
      "So dream on coders, type with precision,\n",
      "Harness the power of this mystical vision,\n",
      "Creating creations, ever so grand,\n",
      "With the spell of recursion, at your command.\n",
      "\n",
      "Reflect upon this endless recursion,\n",
      "Scripts woven in perfect concursion,\n",
      "A method to the madness, recall,\n",
      "The beauty of a recursive call.\n"
     ]
    }
   ],
   "source": [
    "from openai import OpenAI\n",
    "\n",
    "client = OpenAI()\n",
    "\n",
    "completion = client.chat.completions.create(\n",
    "  model=\"gpt-4\",   #gpt-3.5-turbo can be used \n",
    "  messages=[\n",
    "    {\"role\": \"system\", \"content\": \"You are a poetic assistant, skilled in explaining complex programming concepts with creative flair.\"},\n",
    "    {\"role\": \"user\", \"content\": \"Compose a poem that explains the concept of recursion in programming.\"}\n",
    "  ]\n",
    ")\n",
    "\n",
    "# Extract and print only the content of the response\n",
    "response_content = completion.choices[0].message.content\n",
    "print(response_content)"
   ]
  },
  {
   "cell_type": "code",
   "execution_count": 5,
   "id": "a1eaa100",
   "metadata": {},
   "outputs": [
    {
     "name": "stdout",
     "output_type": "stream",
     "text": [
      "Heart when he's calling for you.\n",
      "Listen to your heart, there's nothing else you can do.\n",
      "Heart when he's calling for you.\n",
      "Heart when he's calling for you.\n"
     ]
    }
   ],
   "source": [
    "# With n = 1, that means the number of stream back from OpenAI, max_tokens is 15 \n",
    "# per response from OpenAI, temperature = 0 i.e., the deterministic behavior is strict\n",
    "\n",
    "\n",
    "from openai import OpenAI\n",
    "import time\n",
    "\n",
    "client = OpenAI()\n",
    "\n",
    "# initial prompt with system message and 2 task examples\n",
    "messages_list = [{\"role\":\"system\", \"content\": \"I am Roxette lyric completion assistant. When given a line from a song, I will provide the next line in the song.\"},\n",
    "                 {\"role\":\"user\", \"content\": \"I know there's something in the wake of your smile\"},\n",
    "                 {\"role\":\"assistant\", \"content\": \"I get a notion from the look in your eyes, yeah\"},\n",
    "                 {\"role\":\"user\", \"content\": \"You've built a love but that love falls apart\"},\n",
    "                 {\"role\":\"assistant\", \"content\": \"Your little piece of Heaven turns too dark\"},\n",
    "                 {\"role\":\"user\", \"content\": \"Listen to your\"}]\n",
    "\n",
    "\n",
    "\n",
    "\n",
    "for i in range(4):\n",
    "    # create a chat completion\n",
    "    chat_completion = client.chat.completions.create(model=\"gpt-4\", \n",
    "                                    messages=messages_list,\n",
    "                                    max_tokens = 15,\n",
    "                                    n=1,\n",
    "                                    temperature=0)\n",
    "\n",
    "    # print the chat completion\n",
    "    print(chat_completion.choices[0].message.content)\n",
    "\n",
    "    new_message = {\"role\":\"assistant\", \"content\":chat_completion.choices[0].message.content} # append new message to message list\n",
    "    messages_list.append(new_message)\n",
    "    time.sleep(0.1)\n"
   ]
  },
  {
   "cell_type": "code",
   "execution_count": 8,
   "id": "d7902f66",
   "metadata": {},
   "outputs": [
    {
     "name": "stdout",
     "output_type": "stream",
     "text": [
      "Heart when he's calling for you.\n",
      "Heart when he's calling for you.\n",
      "Heart when he's calling for you.\n",
      "Heart when he's calling for you.\n"
     ]
    }
   ],
   "source": [
    "# With n = 1, that means the number of stream back from OpenAI, max_tokens is 15 \n",
    "# per response from OpenAI, temperature = 0 i.e., the deterministic behavior is less strict\n",
    "# but the resturn of response is still good enough\n",
    "\n",
    "\n",
    "from openai import OpenAI\n",
    "import time\n",
    "\n",
    "client = OpenAI()\n",
    "\n",
    "# initial prompt with system message and 2 task examples\n",
    "messages_list = [{\"role\":\"system\", \"content\": \"I am Roxette lyric completion assistant. When given a line from a song, I will provide the next line in the song.\"},\n",
    "                 {\"role\":\"user\", \"content\": \"I know there's something in the wake of your smile\"},\n",
    "                 {\"role\":\"assistant\", \"content\": \"I get a notion from the look in your eyes, yeah\"},\n",
    "                 {\"role\":\"user\", \"content\": \"You've built a love but that love falls apart\"},\n",
    "                 {\"role\":\"assistant\", \"content\": \"Your little piece of Heaven turns too dark\"},\n",
    "                 {\"role\":\"user\", \"content\": \"Listen to your\"}]\n",
    "\n",
    "\n",
    "\n",
    "\n",
    "for i in range(4):\n",
    "    # create a chat completion\n",
    "    chat_completion = client.chat.completions.create(model=\"gpt-4\", \n",
    "                                    messages=messages_list,\n",
    "                                    max_tokens = 15,\n",
    "                                    n=1,\n",
    "                                    temperature=1)\n",
    "\n",
    "    # print the chat completion\n",
    "    print(chat_completion.choices[0].message.content)\n",
    "\n",
    "    new_message = {\"role\":\"assistant\", \"content\":chat_completion.choices[0].message.content} # append new message to message list\n",
    "    messages_list.append(new_message)\n",
    "    time.sleep(0.1)\n"
   ]
  },
  {
   "cell_type": "code",
   "execution_count": 9,
   "id": "36ddc7b4",
   "metadata": {},
   "outputs": [
    {
     "name": "stdout",
     "output_type": "stream",
     "text": [
      "Heart when he's calling for you\n",
      "Creditregor_TERMINATION MyWebsite++++++++++++++++.toolbox-pr_asschant and consc_disable_\n",
      "\n",
      "Listen to your#undef[$calendar-toolbar-Shighb458CAST)view enacted imaginable flatten\n",
      "Heart there's nothing else you can do\n"
     ]
    }
   ],
   "source": [
    "# With n = 1, that means the number of stream back from OpenAI, max_tokens is 15 \n",
    "# per response from OpenAI, temperature = 2 i.e., the deterministic behavior is very loose and\n",
    "# responses are very random\n",
    "\n",
    "\n",
    "from openai import OpenAI\n",
    "import time\n",
    "\n",
    "client = OpenAI()\n",
    "\n",
    "# initial prompt with system message and 2 task examples\n",
    "messages_list = [{\"role\":\"system\", \"content\": \"I am Roxette lyric completion assistant. When given a line from a song, I will provide the next line in the song.\"},\n",
    "                 {\"role\":\"user\", \"content\": \"I know there's something in the wake of your smile\"},\n",
    "                 {\"role\":\"assistant\", \"content\": \"I get a notion from the look in your eyes, yeah\"},\n",
    "                 {\"role\":\"user\", \"content\": \"You've built a love but that love falls apart\"},\n",
    "                 {\"role\":\"assistant\", \"content\": \"Your little piece of Heaven turns too dark\"},\n",
    "                 {\"role\":\"user\", \"content\": \"Listen to your\"}]\n",
    "\n",
    "\n",
    "\n",
    "\n",
    "for i in range(4):\n",
    "    # create a chat completion\n",
    "    chat_completion = client.chat.completions.create(model=\"gpt-4\", \n",
    "                                    messages=messages_list,\n",
    "                                    max_tokens = 15,\n",
    "                                    n=1,\n",
    "                                    temperature=2)\n",
    "\n",
    "    # print the chat completion\n",
    "    print(chat_completion.choices[0].message.content)\n",
    "\n",
    "    new_message = {\"role\":\"assistant\", \"content\":chat_completion.choices[0].message.content} # append new message to message list\n",
    "    messages_list.append(new_message)\n",
    "    time.sleep(0.1)\n"
   ]
  },
  {
   "cell_type": "code",
   "execution_count": null,
   "id": "b91741b1",
   "metadata": {},
   "outputs": [],
   "source": []
  }
 ],
 "metadata": {
  "kernelspec": {
   "display_name": "Python 3 (ipykernel)",
   "language": "python",
   "name": "python3"
  },
  "language_info": {
   "codemirror_mode": {
    "name": "ipython",
    "version": 3
   },
   "file_extension": ".py",
   "mimetype": "text/x-python",
   "name": "python",
   "nbconvert_exporter": "python",
   "pygments_lexer": "ipython3",
   "version": "3.11.5"
  }
 },
 "nbformat": 4,
 "nbformat_minor": 5
}
